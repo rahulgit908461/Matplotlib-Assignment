{
  "nbformat": 4,
  "nbformat_minor": 0,
  "metadata": {
    "colab": {
      "provenance": [],
      "authorship_tag": "ABX9TyMN2hOIPvUME15l1Mp3nW7H",
      "include_colab_link": true
    },
    "kernelspec": {
      "name": "python3",
      "display_name": "Python 3"
    },
    "language_info": {
      "name": "python"
    }
  },
  "cells": [
    {
      "cell_type": "markdown",
      "metadata": {
        "id": "view-in-github",
        "colab_type": "text"
      },
      "source": [
        "<a href=\"https://colab.research.google.com/github/rahulgit908461/Matplotlib-Assignment/blob/main/Bokeh_Assignment.ipynb\" target=\"_parent\"><img src=\"https://colab.research.google.com/assets/colab-badge.svg\" alt=\"Open In Colab\"/></a>"
      ]
    },
    {
      "cell_type": "code",
      "execution_count": 1,
      "metadata": {
        "id": "Mfum1peEAokC"
      },
      "outputs": [],
      "source": [
        "#Q1. How can create a Bokeh plot using Python code?"
      ]
    },
    {
      "cell_type": "code",
      "source": [
        "import bokeh.io\n",
        "import bokeh.plotting\n",
        "bokeh.io.output_notebook()"
      ],
      "metadata": {
        "id": "E5j1oi6LBPVg"
      },
      "execution_count": 2,
      "outputs": []
    },
    {
      "cell_type": "code",
      "source": [
        "!pip install bokeh"
      ],
      "metadata": {
        "colab": {
          "base_uri": "https://localhost:8080/"
        },
        "id": "AWTBB3DDBTsK",
        "outputId": "fdaef33d-a8bf-4ef0-b793-40acab0c9428"
      },
      "execution_count": 3,
      "outputs": [
        {
          "output_type": "stream",
          "name": "stdout",
          "text": [
            "Looking in indexes: https://pypi.org/simple, https://us-python.pkg.dev/colab-wheels/public/simple/\n",
            "Requirement already satisfied: bokeh in /usr/local/lib/python3.9/dist-packages (2.4.3)\n",
            "Requirement already satisfied: typing-extensions>=3.10.0 in /usr/local/lib/python3.9/dist-packages (from bokeh) (4.5.0)\n",
            "Requirement already satisfied: numpy>=1.11.3 in /usr/local/lib/python3.9/dist-packages (from bokeh) (1.22.4)\n",
            "Requirement already satisfied: packaging>=16.8 in /usr/local/lib/python3.9/dist-packages (from bokeh) (23.0)\n",
            "Requirement already satisfied: pillow>=7.1.0 in /usr/local/lib/python3.9/dist-packages (from bokeh) (8.4.0)\n",
            "Requirement already satisfied: PyYAML>=3.10 in /usr/local/lib/python3.9/dist-packages (from bokeh) (6.0)\n",
            "Requirement already satisfied: Jinja2>=2.9 in /usr/local/lib/python3.9/dist-packages (from bokeh) (3.1.2)\n",
            "Requirement already satisfied: tornado>=5.1 in /usr/local/lib/python3.9/dist-packages (from bokeh) (6.2)\n",
            "Requirement already satisfied: MarkupSafe>=2.0 in /usr/local/lib/python3.9/dist-packages (from Jinja2>=2.9->bokeh) (2.1.2)\n"
          ]
        }
      ]
    },
    {
      "cell_type": "code",
      "source": [
        "from bokeh.plotting import figure, output_file ,show\n",
        "from bokeh.sampledata.iris import flowers\n",
        "\n",
        "output_file('test.html')\n"
      ],
      "metadata": {
        "id": "4uR5O9kUBXmG"
      },
      "execution_count": 4,
      "outputs": []
    },
    {
      "cell_type": "code",
      "source": [
        "# After that we can write pythone code for figure ploting like\n",
        "Ep=figure(title='test flower')\n",
        "#p.xaxis.axis_label='petal length'\n",
        "#p.yaxis.axis_label='petal wedth'\n",
        "#p.circle(flowers['petal_length'] , flowers['petal_width'])\n",
        "#show(p)\n"
      ],
      "metadata": {
        "id": "dEopLwL-C2Zb"
      },
      "execution_count": 6,
      "outputs": []
    },
    {
      "cell_type": "code",
      "source": [
        "#Q2. what are glyphs in Bokeh , and how you add them to a bokeh plot ?Explain it"
      ],
      "metadata": {
        "id": "OVaMfXQNDk3I"
      },
      "execution_count": 7,
      "outputs": []
    },
    {
      "cell_type": "code",
      "source": [
        "# Bokeh is a library of Python which is used to create interactive data visualization. in this article , we will \n",
        "#discuss glyphs in bokeh "
      ],
      "metadata": {
        "id": "jzK53zieD_s3"
      },
      "execution_count": 8,
      "outputs": []
    },
    {
      "cell_type": "code",
      "source": [
        "# pip install bokeh \n",
        "#so glyphs are nothing but visual shapes that are drawn to represent the data such as circles , squres , lines \n",
        "#rectangles,etc"
      ],
      "metadata": {
        "id": "6Nn4gZ6fFXoZ"
      },
      "execution_count": 9,
      "outputs": []
    },
    {
      "cell_type": "code",
      "source": [
        "#Q3. how can customize the appearence of a Bokeh plot, including the axes, title, and legens?"
      ],
      "metadata": {
        "id": "IpTxKJYKFxaH"
      },
      "execution_count": 10,
      "outputs": []
    },
    {
      "cell_type": "code",
      "source": [
        "#In the previous first steps guides, you generated different glyphs and added more information such as a title, \n",
        "#legend, and annotations.\n",
        "#In this section, you will customize the appearance of the plot as a whole. This includes resizing your plot,\n",
        "# changing its lines and colors, and customizing the axes and tools.\n"
      ],
      "metadata": {
        "id": "sB0Dqo6YGFeB"
      },
      "execution_count": 11,
      "outputs": []
    },
    {
      "cell_type": "code",
      "source": [
        "#Q4.What is a Bokeh server, and how can you use it to create interactive plots that can be updated in\n",
        "#real time?"
      ],
      "metadata": {
        "id": "2AUh5M7FHw-D"
      },
      "execution_count": 12,
      "outputs": []
    },
    {
      "cell_type": "code",
      "source": [
        "#Bokeh server makes it easy to create interactive web applications that connect front-end UI events to \n",
        "#running Python code.\n",
        "#Bokeh creates high-level Python models, such as plots, ranges, axes, and glyphs, and then converts \n",
        "#these objects to JSON to pass them to its client library, BokehJS."
      ],
      "metadata": {
        "id": "SudirJ3iIOfn"
      },
      "execution_count": 13,
      "outputs": []
    },
    {
      "cell_type": "code",
      "source": [
        "#Q5.How can you embed a Bokeh plot into a web page or dashboard using Flask or Django?"
      ],
      "metadata": {
        "id": "CVHwjIWeIk5Y"
      },
      "execution_count": 14,
      "outputs": []
    },
    {
      "cell_type": "code",
      "source": [],
      "metadata": {
        "id": "IOU0DGsIIrlH"
      },
      "execution_count": null,
      "outputs": []
    }
  ]
}