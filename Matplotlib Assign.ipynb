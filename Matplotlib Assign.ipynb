{
 "cells": [
  {
   "cell_type": "code",
   "execution_count": 1,
   "id": "f75555ec-8c42-4eae-982c-e430d28f73b8",
   "metadata": {},
   "outputs": [],
   "source": [
    "#Q.- what is matplotlib? why is it used? five plot use the pyplot module pf Matplotlib"
   ]
  },
  {
   "cell_type": "code",
   "execution_count": 2,
   "id": "954f1169-acf6-4916-9487-cc7b6b88f873",
   "metadata": {},
   "outputs": [],
   "source": [
    "#matplotlib is a ploting library for the python programming languuage. it used to reate 2D ,3D graph plots by using\n",
    "#python scripts."
   ]
  },
  {
   "cell_type": "code",
   "execution_count": 13,
   "id": "0773cc8b-2909-42a8-b10e-b5663f69a932",
   "metadata": {},
   "outputs": [],
   "source": [
    "#Q2 what is scatter plot? given X & Y Data Plot by this data scatter plot"
   ]
  },
  {
   "cell_type": "code",
   "execution_count": 1,
   "id": "44a1df85-5511-4f79-87aa-02a1603c86e3",
   "metadata": {},
   "outputs": [],
   "source": [
    "import numpy as np\n",
    "import matplotlib.pylab as plt"
   ]
  },
  {
   "cell_type": "code",
   "execution_count": 8,
   "id": "c60ee8d5-a0b1-46d6-b733-a78f3d3d03db",
   "metadata": {},
   "outputs": [],
   "source": [
    "np.random.seed(3)"
   ]
  },
  {
   "cell_type": "code",
   "execution_count": 9,
   "id": "02584115-4ea7-402f-80b8-995f8e07335c",
   "metadata": {},
   "outputs": [],
   "source": [
    "x=3+np.random.normal(0,2,50)"
   ]
  },
  {
   "cell_type": "code",
   "execution_count": 10,
   "id": "a56ecd69-db14-4a62-aa8b-0279773cfdcd",
   "metadata": {},
   "outputs": [
    {
     "data": {
      "text/plain": [
       "array([ 6.57725695,  3.8730197 ,  3.19299494, -0.72698541,  2.44522359,\n",
       "        2.29048204,  2.83451704,  1.74599865,  2.91236366,  2.04556394,\n",
       "        0.37227049,  4.76924476,  4.76263608,  6.41914613,  3.10006728,\n",
       "        2.19064517,  1.9092801 , -0.09295463,  4.96473487,  0.79786474,\n",
       "        0.62990695,  2.5887002 ,  5.97229671,  3.47343253,  0.95242972,\n",
       "        1.5740136 ,  4.25048993,  2.67897327,  1.4623273 ,  2.53993856,\n",
       "        4.49011253,  6.95222157,  0.51175334,  1.74716618,  1.39246781,\n",
       "       -1.83816635,  1.15241596,  0.95224848,  5.24795592,  2.73617153,\n",
       "       -0.24657089,  4.2933509 ,  2.28745848, -0.48628207,  1.80670072,\n",
       "        1.82281124,  1.2522354 ,  3.05942763, -1.49651554,  2.46447627])"
      ]
     },
     "execution_count": 10,
     "metadata": {},
     "output_type": "execute_result"
    }
   ],
   "source": [
    "x"
   ]
  },
  {
   "cell_type": "code",
   "execution_count": 11,
   "id": "9ca6db66-d07d-4e8f-8964-301ee2874659",
   "metadata": {},
   "outputs": [],
   "source": [
    "y=3+np.random.normal(0,2,len(x))"
   ]
  },
  {
   "cell_type": "code",
   "execution_count": 12,
   "id": "6a0835c1-4c1c-4c07-aef5-d2d3b9cc3b82",
   "metadata": {},
   "outputs": [
    {
     "data": {
      "text/plain": [
       "array([ 5.02636688,  4.70559568,  5.216375  ,  5.23878131,  5.97508626,\n",
       "        0.76339863,  4.69166681, -0.72177906,  1.79422979, -0.82894409,\n",
       "        5.09629502,  5.66747564,  2.60517064,  6.54929006,  1.65054498,\n",
       "        3.30123373,  3.30589141,  0.87160945,  3.87589322,  6.87795692,\n",
       "        0.95013825,  4.79867689,  2.6909863 ,  6.53925461,  3.9675767 ,\n",
       "        4.3524328 ,  4.28632656,  3.49817341,  0.20847299,  5.78332582,\n",
       "        0.25866197,  3.47712638,  4.22815418,  1.32417545,  3.29012643,\n",
       "        5.33576457,  2.95179106,  1.22268516, -2.8314755 ,  1.05631899,\n",
       "        1.81784252,  1.96716526,  1.08000764,  3.75459047,  1.85058316,\n",
       "        2.78109133,  4.3581432 ,  1.28912566,  2.39958785,  7.31629868])"
      ]
     },
     "execution_count": 12,
     "metadata": {},
     "output_type": "execute_result"
    }
   ],
   "source": [
    "y"
   ]
  },
  {
   "cell_type": "code",
   "execution_count": 16,
   "id": "95b92829-01d5-4f41-9e36-8a52f4c414b1",
   "metadata": {},
   "outputs": [
    {
     "data": {
      "image/png": "[encoded data removed]",
      "text/plain": [
       "<Figure size 640x480 with 1 Axes>"
      ]
     },
     "metadata": {},
     "output_type": "display_data"
    }
   ],
   "source": [
    "plt.scatter(x,y)\n",
    "plt.xlabel('this is my x axis')\n",
    "plt.ylabel('this is my y axis')\n",
    "plt.title('this is my X & Y Value graph')\n",
    "plt.show()"
   ]
  },
  {
   "cell_type": "code",
   "execution_count": 18,
   "id": "d0109ec3-4e8c-49e3-81e6-b227a1b1563f",
   "metadata": {},
   "outputs": [],
   "source": [
    "#Q3. why is the subplot() fun used by given data draw four line "
   ]
  },
  {
   "cell_type": "code",
   "execution_count": 63,
   "id": "616f3f99-567b-41fb-b4dd-b282b7debd1a",
   "metadata": {},
   "outputs": [
    {
     "data": {
      "text/plain": [
       "array([200, 350, 250, 550, 450, 150])"
      ]
     },
     "execution_count": 63,
     "metadata": {},
     "output_type": "execute_result"
    }
   ],
   "source": [
    "x=np.array([0,1,2,3,4,5])\n",
    "y=np.array([50,20,40,20,60,70])\n",
    "\n",
    "x1=np.array([0,1,2,3,4,5])\n",
    "y1=np.array([50, 20, 40, 20, 60, 70])\n",
    "\n",
    "x2=np.array([0, 1, 2, 3, 4, 5])\n",
    "y2=np.array([10, 20, 30, 40, 50, 60])\n",
    "\n",
    "x3=np.array([0, 1, 2, 3, 4, 5])\n",
    "np.array([200, 350, 250, 550, 450, 150])"
   ]
  },
  {
   "cell_type": "code",
   "execution_count": 23,
   "id": "1199b7b9-ee7d-473b-a799-8a92a28148d4",
   "metadata": {},
   "outputs": [],
   "source": [
    "# Draw Four line plot using the suplot() Fun."
   ]
  },
  {
   "cell_type": "code",
   "execution_count": 4,
   "id": "8063375e-898b-45a3-8523-07a32211abe2",
   "metadata": {},
   "outputs": [],
   "source": [
    "#subplots() acts as a utility wrapper and helps in reacting common layouts of subplots,including the enclosing figuare object\n",
    "# in a single call."
   ]
  },
  {
   "cell_type": "code",
   "execution_count": 22,
   "id": "b02aa8b5-ea57-44de-b216-84a6c7eed6ec",
   "metadata": {},
   "outputs": [
    {
     "data": {
      "text/plain": [
       "array([0, 1, 2, 3, 4, 5])"
      ]
     },
     "execution_count": 22,
     "metadata": {},
     "output_type": "execute_result"
    }
   ],
   "source": [
    "x"
   ]
  },
  {
   "cell_type": "code",
   "execution_count": 23,
   "id": "a8748fb6-edba-429e-a1a5-55cfd5c1adf8",
   "metadata": {},
   "outputs": [
    {
     "data": {
      "text/plain": [
       "array([50, 20, 40, 20, 60, 70])"
      ]
     },
     "execution_count": 23,
     "metadata": {},
     "output_type": "execute_result"
    }
   ],
   "source": [
    "y"
   ]
  },
  {
   "cell_type": "code",
   "execution_count": 24,
   "id": "9170c4d2-0abe-44db-9d78-9aae01a7b60d",
   "metadata": {},
   "outputs": [
    {
     "data": {
      "text/plain": [
       "array([0, 1, 2, 3, 4, 5])"
      ]
     },
     "execution_count": 24,
     "metadata": {},
     "output_type": "execute_result"
    }
   ],
   "source": [
    "x1"
   ]
  },
  {
   "cell_type": "code",
   "execution_count": 26,
   "id": "91ffe886-fd38-4cb3-8536-6040b3b4eac7",
   "metadata": {},
   "outputs": [
    {
     "data": {
      "text/plain": [
       "array([50, 20, 40, 20, 60, 70])"
      ]
     },
     "execution_count": 26,
     "metadata": {},
     "output_type": "execute_result"
    }
   ],
   "source": [
    "y1"
   ]
  },
  {
   "cell_type": "code",
   "execution_count": 27,
   "id": "a930bef5-93c0-4143-b456-2f7fe2f44770",
   "metadata": {},
   "outputs": [
    {
     "data": {
      "text/plain": [
       "array([0, 1, 2, 3, 4, 5])"
      ]
     },
     "execution_count": 27,
     "metadata": {},
     "output_type": "execute_result"
    }
   ],
   "source": [
    "x2"
   ]
  },
  {
   "cell_type": "code",
   "execution_count": 28,
   "id": "09a8e064-646b-43ce-abc7-3f1b6ce86c2b",
   "metadata": {},
   "outputs": [
    {
     "data": {
      "text/plain": [
       "array([10, 20, 30, 40, 50, 60])"
      ]
     },
     "execution_count": 28,
     "metadata": {},
     "output_type": "execute_result"
    }
   ],
   "source": [
    "y2"
   ]
  },
  {
   "cell_type": "code",
   "execution_count": 29,
   "id": "d60d280e-31c4-4b8b-bc4a-e89bcae665d8",
   "metadata": {},
   "outputs": [
    {
     "data": {
      "text/plain": [
       "array([0, 1, 2, 3, 4, 5])"
      ]
     },
     "execution_count": 29,
     "metadata": {},
     "output_type": "execute_result"
    }
   ],
   "source": [
    "x3"
   ]
  },
  {
   "cell_type": "code",
   "execution_count": 30,
   "id": "0c4a6052-be55-4b5f-abf1-69720251a8df",
   "metadata": {},
   "outputs": [
    {
     "data": {
      "text/plain": [
       "array([10, 20, 30, 40, 50, 60])"
      ]
     },
     "execution_count": 30,
     "metadata": {},
     "output_type": "execute_result"
    }
   ],
   "source": [
    "y3"
   ]
  },
  {
   "cell_type": "code",
   "execution_count": 64,
   "id": "c8671e45-5a91-4908-9be9-303eaed75543",
   "metadata": {},
   "outputs": [
    {
     "name": "stderr",
     "output_type": "stream",
     "text": [
      "/tmp/ipykernel_102/2365978369.py:2: MatplotlibDeprecationWarning: Auto-removal of overlapping axes is deprecated since 3.6 and will be removed two minor releases later; explicitly call ax.remove() as needed.\n",
      "  plt.subplot(2,2,1)\n"
     ]
    },
    {
     "data": {
      "image/png": "[encoded data removed]",
      "text/plain": [
       "<Figure size 640x480 with 4 Axes>"
      ]
     },
     "metadata": {},
     "output_type": "display_data"
    }
   ],
   "source": [
    "plt.plot(x,y)\n",
    "plt.subplot(2,2,1)\n",
    "plt.plot(x1,y1)\n",
    "plt.subplot(2,2,2)\n",
    "plt.plot(x2,y2)\n",
    "plt.subplot(2,2,3)\n",
    "plt.plot(x3,y3)\n",
    "plt.subplot(2,2,4)\n",
    "plt.show()\n"
   ]
  },
  {
   "cell_type": "code",
   "execution_count": 34,
   "id": "5d525972-c8de-4c2e-9a0e-c83fd9a6305f",
   "metadata": {},
   "outputs": [],
   "source": [
    "#above results is subplots graph"
   ]
  },
  {
   "cell_type": "code",
   "execution_count": 35,
   "id": "b22922c1-468a-48cb-bc2b-719e34a6214f",
   "metadata": {},
   "outputs": [],
   "source": [
    "#Q4.what is bar plot, why is used , given data plot bar plot and hozontal bar plot"
   ]
  },
  {
   "cell_type": "code",
   "execution_count": 41,
   "id": "a36faf77-725c-4d8c-a671-f182c8a47fce",
   "metadata": {},
   "outputs": [],
   "source": [
    "company = np.array([\"Apple\", \"Microsoft\", \"Google\", \"AMD\"])\n",
    "profit = np.array([3000, 8000, 1000, 10000])"
   ]
  },
  {
   "cell_type": "code",
   "execution_count": 37,
   "id": "a3ab08e7-aa0b-45eb-94c5-e757119fcab6",
   "metadata": {},
   "outputs": [],
   "source": [
    "#Ans Bar plot is type of data visualization use to represent data in the form of rectangular bars."
   ]
  },
  {
   "cell_type": "code",
   "execution_count": 44,
   "id": "1fb17e52-3a0a-4c8a-af85-b0940f90e5e8",
   "metadata": {},
   "outputs": [
    {
     "data": {
      "text/plain": [
       "<BarContainer object of 4 artists>"
      ]
     },
     "execution_count": 44,
     "metadata": {},
     "output_type": "execute_result"
    },
    {
     "data": {
      "image/png": "[encoded data removed]",
      "text/plain": [
       "<Figure size 640x480 with 1 Axes>"
      ]
     },
     "metadata": {},
     "output_type": "display_data"
    }
   ],
   "source": [
    "#Ans for plot bar chart\n",
    "plt.bar(company ,profit)"
   ]
  },
  {
   "cell_type": "code",
   "execution_count": 45,
   "id": "756121f9-658d-4768-bc12-c223c6323c22",
   "metadata": {},
   "outputs": [
    {
     "data": {
      "text/plain": [
       "<BarContainer object of 4 artists>"
      ]
     },
     "execution_count": 45,
     "metadata": {},
     "output_type": "execute_result"
    },
    {
     "data": {
      "image/png": "[encoded data removed]",
      "text/plain": [
       "<Figure size 640x480 with 1 Axes>"
      ]
     },
     "metadata": {},
     "output_type": "display_data"
    }
   ],
   "source": [
    "plt.barh(company ,profit)"
   ]
  },
  {
   "cell_type": "code",
   "execution_count": 46,
   "id": "adea8086-6eb6-4e79-b28a-5f07ef4eb8ce",
   "metadata": {},
   "outputs": [],
   "source": [
    "#Q5. What is box plot , why is it used , given data plot box plot"
   ]
  },
  {
   "cell_type": "code",
   "execution_count": 47,
   "id": "fab349d5-3768-40a6-98af-7c77cc9ee565",
   "metadata": {},
   "outputs": [],
   "source": [
    "box1 = np.random.normal(100, 10, 200)\n",
    "box2 = np.random.normal(90, 20, 200)"
   ]
  },
  {
   "cell_type": "code",
   "execution_count": 48,
   "id": "e0c3fde1-29e9-4793-a3cd-9d9e38d9d340",
   "metadata": {},
   "outputs": [],
   "source": [
    "#Ans Boxplots are a measure of how well distributed the data in a data set. it \n",
    "#divides the data set into three quartiles . this graph presents the min , max , med, first \n",
    "# Quartile and third Quartile in the data set."
   ]
  },
  {
   "cell_type": "code",
   "execution_count": 65,
   "id": "9b5719f4-e186-477b-a467-806a56d1c74e",
   "metadata": {},
   "outputs": [
    {
     "data": {
      "image/png": "[encoded data removed]",
      "text/plain": [
       "<Figure size 640x480 with 1 Axes>"
      ]
     },
     "metadata": {},
     "output_type": "display_data"
    }
   ],
   "source": [
    "# Ans for box plot\n",
    "y=(box1,box2)\n",
    "plt.boxplot(y)\n",
    "plt.show()"
   ]
  },
  {
   "cell_type": "code",
   "execution_count": null,
   "id": "dd559024-5579-41a2-a448-390702cd3a2c",
   "metadata": {},
   "outputs": [],
   "source": []
  }
 ],
 "metadata": {
  "kernelspec": {
   "display_name": "Python 3 (ipykernel)",
   "language": "python",
   "name": "python3"
  },
  "language_info": {
   "codemirror_mode": {
    "name": "ipython",
    "version": 3
   },
   "file_extension": ".py",
   "mimetype": "text/x-python",
   "name": "python",
   "nbconvert_exporter": "python",
   "pygments_lexer": "ipython3",
   "version": "3.10.8"
  }
 },
 "nbformat": 4,
 "nbformat_minor": 5
}
